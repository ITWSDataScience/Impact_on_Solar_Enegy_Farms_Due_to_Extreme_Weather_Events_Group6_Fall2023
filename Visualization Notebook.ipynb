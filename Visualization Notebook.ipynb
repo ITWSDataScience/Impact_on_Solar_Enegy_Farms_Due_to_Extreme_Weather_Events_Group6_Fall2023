{
 "cells": [
  {
   "cell_type": "code",
   "execution_count": 1,
   "id": "2643406e",
   "metadata": {},
   "outputs": [],
   "source": [
    "import pandas as pd \n",
    "import datetime\n",
    "import re"
   ]
  },
  {
   "cell_type": "code",
   "execution_count": 9,
   "id": "1bad3ce6",
   "metadata": {},
   "outputs": [],
   "source": [
    "df = pd.read_csv('cali_powerplant_out.csv')\n",
    "df2 = pd.read_csv(\"NRI_out.csv\")\n",
    "df3 = pd.read_excel(\"Disaster_List.xls\")\n"
   ]
  },
  {
   "cell_type": "code",
   "execution_count": 3,
   "id": "b2135f26",
   "metadata": {},
   "outputs": [],
   "source": [
    "for dt in df3['DATE OF DISASTER']:\n",
    "    date_format = \"%Y-%m-%d %H:%M:%S\"\n",
    "    date_object = dt.to_pydatetime()\n",
    "    "
   ]
  },
  {
   "cell_type": "code",
   "execution_count": 8,
   "id": "af862523",
   "metadata": {
    "scrolled": false
   },
   "outputs": [],
   "source": [
    "# Parse the Counties\n",
    "california_counties = [\n",
    "    \"Alameda\", \"Alpine\", \"Amador\", \"Butte\", \"Calaveras\", \"Colusa\", \"Contra Costa\",\n",
    "    \"Del Norte\", \"El Dorado\", \"Fresno\", \"Glenn\", \"Humboldt\", \"Imperial\", \"Inyo\",\n",
    "    \"Kern\", \"Kings\", \"Lake\", \"Lassen\", \"Los Angeles\", \"Madera\", \"Marin\", \"Mariposa\",\n",
    "    \"Mendocino\", \"Merced\", \"Modoc\", \"Mono\", \"Monterey\", \"Napa\", \"Nevada\", \"Orange\",\n",
    "    \"Placer\", \"Plumas\", \"Riverside\", \"Sacramento\", \"San Benito\", \"San Bernardino\",\n",
    "    \"San Diego\", \"San Francisco\", \"San Joaquin\", \"San Luis Obispo\", \"San Mateo\",\n",
    "    \"Santa Barbara\", \"Santa Clara\", \"Santa Cruz\", \"Shasta\", \"Sierra\", \"Siskiyou\",\n",
    "    \"Solano\", \"Sonoma\", \"Stanislaus\", \"Sutter\", \"Tehama\", \"Trinity\", \"Tulare\",\n",
    "    \"Tuolumne\", \"Ventura\", \"Yolo\", \"Yuba\"\n",
    "]\n",
    "\n",
    "df2[\"DISASTER\"] = \"\"\n",
    "df2[\"DISASTER_DATE\"] = \"\"\n",
    "\n",
    "for index, row in df3.iterrows():\n",
    "    # Creating list for all counties involved in the disaster\n",
    "    county = row[\"COUNTIES INVOLVED\"]\n",
    "\n",
    "    county = re.split(r',|and', county)\n",
    "    county = [item.strip() for item in county if item.strip()]\n",
    "    if county == [\"All 58 counties\"]:\n",
    "        county = california_counties\n",
    "\n",
    "    for cty in county:\n",
    "        matching_rows = df2.loc[df2[\"COUNTY\"] == cty]\n",
    " \n",
    "        df2.loc[matching_rows.index, \"DISASTER\"] += str(row[\"TYPE OF DISASTER\"]) + \", \"\n",
    "        df2.loc[matching_rows.index, \"DISASTER_DATE\"] += str(row[\"DATE OF DISASTER\"]) + ', '\n",
    "        \n",
    "df2.head();\n"
   ]
  },
  {
   "cell_type": "code",
   "execution_count": 10,
   "id": "3c6ce70e",
   "metadata": {
    "scrolled": true
   },
   "outputs": [
    {
     "data": {
      "text/html": [
       "<div>\n",
       "<style scoped>\n",
       "    .dataframe tbody tr th:only-of-type {\n",
       "        vertical-align: middle;\n",
       "    }\n",
       "\n",
       "    .dataframe tbody tr th {\n",
       "        vertical-align: top;\n",
       "    }\n",
       "\n",
       "    .dataframe thead th {\n",
       "        text-align: right;\n",
       "    }\n",
       "</style>\n",
       "<table border=\"1\" class=\"dataframe\">\n",
       "  <thead>\n",
       "    <tr style=\"text-align: right;\">\n",
       "      <th></th>\n",
       "      <th>X</th>\n",
       "      <th>Y</th>\n",
       "      <th>OBJECTID</th>\n",
       "      <th>CECPlantID</th>\n",
       "      <th>PlantName</th>\n",
       "      <th>County</th>\n",
       "      <th>Capacity_Latest</th>\n",
       "      <th>StartDate</th>\n",
       "    </tr>\n",
       "  </thead>\n",
       "  <tbody>\n",
       "    <tr>\n",
       "      <th>0</th>\n",
       "      <td>-119.567893</td>\n",
       "      <td>36.137170</td>\n",
       "      <td>1865</td>\n",
       "      <td>S0335</td>\n",
       "      <td>Corcoran 2 Solar LLC CED</td>\n",
       "      <td>Kings</td>\n",
       "      <td>19.8</td>\n",
       "      <td>2015/06/10 00:00:00+00</td>\n",
       "    </tr>\n",
       "    <tr>\n",
       "      <th>1</th>\n",
       "      <td>-119.579712</td>\n",
       "      <td>36.144319</td>\n",
       "      <td>1866</td>\n",
       "      <td>S0520</td>\n",
       "      <td>Corcoran 3 Solar</td>\n",
       "      <td>Kings</td>\n",
       "      <td>20.0</td>\n",
       "      <td>2016/02/11 00:00:00+00</td>\n",
       "    </tr>\n",
       "    <tr>\n",
       "      <th>2</th>\n",
       "      <td>-119.128325</td>\n",
       "      <td>36.266298</td>\n",
       "      <td>1869</td>\n",
       "      <td>S0608</td>\n",
       "      <td>Exeter Solar</td>\n",
       "      <td>Tulare</td>\n",
       "      <td>3.5</td>\n",
       "      <td>2014/02/12 00:00:00+00</td>\n",
       "    </tr>\n",
       "    <tr>\n",
       "      <th>3</th>\n",
       "      <td>-119.134000</td>\n",
       "      <td>36.211778</td>\n",
       "      <td>1870</td>\n",
       "      <td>S0609</td>\n",
       "      <td>Lindsay Solar</td>\n",
       "      <td>Tulare</td>\n",
       "      <td>4.0</td>\n",
       "      <td>2014/01/15 00:00:00+00</td>\n",
       "    </tr>\n",
       "    <tr>\n",
       "      <th>4</th>\n",
       "      <td>-119.039944</td>\n",
       "      <td>36.103717</td>\n",
       "      <td>1871</td>\n",
       "      <td>S9325</td>\n",
       "      <td>ImModo California 1 LLC_(East Orosi 1)</td>\n",
       "      <td>Tulare</td>\n",
       "      <td>1.5</td>\n",
       "      <td>2013/12/31 00:00:00+00</td>\n",
       "    </tr>\n",
       "  </tbody>\n",
       "</table>\n",
       "</div>"
      ],
      "text/plain": [
       "            X          Y  OBJECTID CECPlantID  \\\n",
       "0 -119.567893  36.137170      1865      S0335   \n",
       "1 -119.579712  36.144319      1866      S0520   \n",
       "2 -119.128325  36.266298      1869      S0608   \n",
       "3 -119.134000  36.211778      1870      S0609   \n",
       "4 -119.039944  36.103717      1871      S9325   \n",
       "\n",
       "                                PlantName  County  Capacity_Latest  \\\n",
       "0                Corcoran 2 Solar LLC CED   Kings             19.8   \n",
       "1                        Corcoran 3 Solar   Kings             20.0   \n",
       "2                            Exeter Solar  Tulare              3.5   \n",
       "3                           Lindsay Solar  Tulare              4.0   \n",
       "4  ImModo California 1 LLC_(East Orosi 1)  Tulare              1.5   \n",
       "\n",
       "                StartDate  \n",
       "0  2015/06/10 00:00:00+00  \n",
       "1  2016/02/11 00:00:00+00  \n",
       "2  2014/02/12 00:00:00+00  \n",
       "3  2014/01/15 00:00:00+00  \n",
       "4  2013/12/31 00:00:00+00  "
      ]
     },
     "execution_count": 10,
     "metadata": {},
     "output_type": "execute_result"
    }
   ],
   "source": [
    "df2['PlantName'] = \"\"\n",
    "df2['Capacity'] = \"\"\n",
    "\n",
    "for index, row in df.iterrows():\n",
    "    if row['County']\n",
    "df.head()\n"
   ]
  },
  {
   "cell_type": "code",
   "execution_count": null,
   "id": "ec72330b",
   "metadata": {},
   "outputs": [],
   "source": []
  },
  {
   "cell_type": "code",
   "execution_count": null,
   "id": "705db2be",
   "metadata": {},
   "outputs": [],
   "source": []
  },
  {
   "cell_type": "code",
   "execution_count": null,
   "id": "5471bdfb",
   "metadata": {},
   "outputs": [],
   "source": []
  }
 ],
 "metadata": {
  "kernelspec": {
   "display_name": "Python 3 (ipykernel)",
   "language": "python",
   "name": "python3"
  },
  "language_info": {
   "codemirror_mode": {
    "name": "ipython",
    "version": 3
   },
   "file_extension": ".py",
   "mimetype": "text/x-python",
   "name": "python",
   "nbconvert_exporter": "python",
   "pygments_lexer": "ipython3",
   "version": "3.9.18"
  }
 },
 "nbformat": 4,
 "nbformat_minor": 5
}
