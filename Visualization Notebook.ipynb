{
 "cells": [
  {
   "cell_type": "code",
   "execution_count": 1,
   "id": "2643406e",
   "metadata": {},
   "outputs": [],
   "source": [
    "import pandas as pd "
   ]
  },
  {
   "cell_type": "code",
   "execution_count": 25,
   "id": "1bad3ce6",
   "metadata": {},
   "outputs": [
    {
     "data": {
      "text/plain": [
       "0      Fresno, Imperial, Inyo, Kern, Los Angeles, Ora...\n",
       "1                                    Del Norte, Siskiyou\n",
       "2      Alameda, Alpine, Amador, Butte, Calaveras, Con...\n",
       "3                                        All 58 counties\n",
       "4                                               Humboldt\n",
       "                             ...                        \n",
       "171                                                  NaN\n",
       "172                                                  NaN\n",
       "173                                                  NaN\n",
       "174                                                  NaN\n",
       "175                                                  NaN\n",
       "Name: COUNTIES INVOLVED, Length: 176, dtype: object"
      ]
     },
     "execution_count": 25,
     "metadata": {},
     "output_type": "execute_result"
    }
   ],
   "source": [
    "df = pd.read_csv('cali_powerplant_out.csv')\n",
    "df2 = pd.read_csv(\"NRI_out.csv\")\n",
    "df3 = pd.read_csv(\"Disaster_List.csv\")\n",
    "#df.head()\n",
    "df3.head()\n",
    "df3['COUNTIES INVOLVED']"
   ]
  },
  {
   "cell_type": "code",
   "execution_count": 23,
   "id": "705db2be",
   "metadata": {},
   "outputs": [
    {
     "name": "stdout",
     "output_type": "stream",
     "text": [
      "47\n",
      "58\n"
     ]
    }
   ],
   "source": [
    "grouped = df.groupby('County')\n",
    "\n",
    "counties = grouped.groups.keys()\n",
    "print(len(counties))\n",
    "print(len(set(df2['COUNTY'])))\n"
   ]
  },
  {
   "cell_type": "code",
   "execution_count": null,
   "id": "5471bdfb",
   "metadata": {},
   "outputs": [],
   "source": []
  }
 ],
 "metadata": {
  "kernelspec": {
   "display_name": "Python 3 (ipykernel)",
   "language": "python",
   "name": "python3"
  },
  "language_info": {
   "codemirror_mode": {
    "name": "ipython",
    "version": 3
   },
   "file_extension": ".py",
   "mimetype": "text/x-python",
   "name": "python",
   "nbconvert_exporter": "python",
   "pygments_lexer": "ipython3",
   "version": "3.9.18"
  }
 },
 "nbformat": 4,
 "nbformat_minor": 5
}
