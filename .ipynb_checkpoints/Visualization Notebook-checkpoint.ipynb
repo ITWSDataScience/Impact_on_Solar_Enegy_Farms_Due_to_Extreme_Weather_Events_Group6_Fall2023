{
 "cells": [
  {
   "cell_type": "code",
   "execution_count": 26,
   "id": "2643406e",
   "metadata": {},
   "outputs": [],
   "source": [
    "import pandas as pd \n",
    "import datetime\n",
    "import re"
   ]
  },
  {
   "cell_type": "code",
   "execution_count": 27,
   "id": "1bad3ce6",
   "metadata": {},
   "outputs": [],
   "source": [
    "df = pd.read_csv('cali_powerplant_out.csv')\n",
    "df2 = pd.read_csv(\"NRI_out.csv\")\n",
    "df3 = pd.read_excel(\"Disaster_List.xls\")\n"
   ]
  },
  {
   "cell_type": "code",
   "execution_count": 28,
   "id": "b2135f26",
   "metadata": {},
   "outputs": [],
   "source": [
    "for dt in df3['DATE OF DISASTER']:\n",
    "    date_format = \"%Y-%m-%d %H:%M:%S\"\n",
    "    date_object = dt.to_pydatetime()\n",
    "    "
   ]
  },
  {
   "cell_type": "code",
   "execution_count": 29,
   "id": "af862523",
   "metadata": {
    "scrolled": false
   },
   "outputs": [],
   "source": [
    "# Parse the Counties\n",
    "california_counties = [\n",
    "    \"Alameda\", \"Alpine\", \"Amador\", \"Butte\", \"Calaveras\", \"Colusa\", \"Contra Costa\",\n",
    "    \"Del Norte\", \"El Dorado\", \"Fresno\", \"Glenn\", \"Humboldt\", \"Imperial\", \"Inyo\",\n",
    "    \"Kern\", \"Kings\", \"Lake\", \"Lassen\", \"Los Angeles\", \"Madera\", \"Marin\", \"Mariposa\",\n",
    "    \"Mendocino\", \"Merced\", \"Modoc\", \"Mono\", \"Monterey\", \"Napa\", \"Nevada\", \"Orange\",\n",
    "    \"Placer\", \"Plumas\", \"Riverside\", \"Sacramento\", \"San Benito\", \"San Bernardino\",\n",
    "    \"San Diego\", \"San Francisco\", \"San Joaquin\", \"San Luis Obispo\", \"San Mateo\",\n",
    "    \"Santa Barbara\", \"Santa Clara\", \"Santa Cruz\", \"Shasta\", \"Sierra\", \"Siskiyou\",\n",
    "    \"Solano\", \"Sonoma\", \"Stanislaus\", \"Sutter\", \"Tehama\", \"Trinity\", \"Tulare\",\n",
    "    \"Tuolumne\", \"Ventura\", \"Yolo\", \"Yuba\"\n",
    "]\n",
    "\n",
    "df2[\"DISASTER\"] = \"\"\n",
    "df2[\"DISASTER_DATE\"] = \"\"\n",
    "\n",
    "for index, row in df3.iterrows():\n",
    "    # Creating list for all counties involved in the disaster\n",
    "    county = row[\"COUNTIES INVOLVED\"]\n",
    "\n",
    "    county = re.split(r',|and', county)\n",
    "    county = [item.strip() for item in county if item.strip()]\n",
    "    if county == [\"All 58 counties\"]:\n",
    "        county = california_counties\n",
    "\n",
    "    for cty in county:\n",
    "        matching_rows = df2.loc[df2[\"COUNTY\"] == cty]\n",
    " \n",
    "        df2.loc[matching_rows.index, \"DISASTER\"] += str(row[\"TYPE OF DISASTER\"]) + \", \"\n",
    "        df2.loc[matching_rows.index, \"DISASTER_DATE\"] += str(row[\"DATE OF DISASTER\"]) + ', '\n",
    "        \n",
    "df2.head();\n"
   ]
  },
  {
   "cell_type": "code",
   "execution_count": 30,
   "id": "3c6ce70e",
   "metadata": {
    "scrolled": true
   },
   "outputs": [],
   "source": [
    "df2.head();\n",
    "\n",
    "df2.to_csv('give_dan.csv')"
   ]
  },
  {
   "cell_type": "code",
   "execution_count": null,
   "id": "705db2be",
   "metadata": {},
   "outputs": [],
   "source": []
  },
  {
   "cell_type": "code",
   "execution_count": null,
   "id": "5471bdfb",
   "metadata": {},
   "outputs": [],
   "source": []
  }
 ],
 "metadata": {
  "kernelspec": {
   "display_name": "Python 3 (ipykernel)",
   "language": "python",
   "name": "python3"
  },
  "language_info": {
   "codemirror_mode": {
    "name": "ipython",
    "version": 3
   },
   "file_extension": ".py",
   "mimetype": "text/x-python",
   "name": "python",
   "nbconvert_exporter": "python",
   "pygments_lexer": "ipython3",
   "version": "3.9.18"
  }
 },
 "nbformat": 4,
 "nbformat_minor": 5
}
